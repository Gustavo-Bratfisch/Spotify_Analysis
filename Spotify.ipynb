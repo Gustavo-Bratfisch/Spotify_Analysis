{
 "cells": [
  {
   "cell_type": "markdown",
   "metadata": {},
   "source": [
    "- artistName is the name of the artist\n",
    "- trackName is the music name\n",
    "- energy represents a perceptual measure of intensity and activity, measure from 0.0 to 1.0\n",
    "- danceability describes how suitable a track is for dancing based on a combination of musical elements including tempo, rhythm stability, beat strength, and overall regularity, measure from 0.0 to 1.0\n",
    "- key The estimated overall key of the track. Integers map to pitches using standard Pitch Class notation \n",
    "- loudness is the quality of a sound that is the primary psychological correlate of physical strength (amplitude). Measures from -60 to 0.\n",
    "- mode indicates the modality (major or minor) of a track, the type of scale from which its melodic content is derived. Major is represented by 1 and minor is 0.\n",
    "- speechiness detects the presence of spoken words in a track, measure from 0.0 to 1.0\n",
    "- acousticness whether the track is acoustic , measure from 0.0 to 1.0\n",
    "- instrumentalness \tPredicts whether a track contains no vocals. The closer the instrumentalness value is to 1.0, the greater likelihood the track contains no vocal content\n",
    "- liveness Detects the presence of an audience in the recording.Measure from 0.0 to 1.0\n",
    "- variance racks with high valence sound more positive (e.g. happy, cheerful, euphoric), while tracks with low valence sound more negative (e.g. sad, depressed, angry). Measure from 0.0 to 1.0\n",
    "- tempo In musical terminology, tempo is the speed or pace of a given piece and derives directly from the average beat duration.\n",
    "- duration_ms \tThe duration of the track in milliseconds.\n",
    "- time_signature The time signature (meter) is a notational convention to specify how many beats are in each bar\n",
    "- The popularity of the artist. The value will be between 0 and 100, with 100 being the most popular. The artist’s popularity is calculated from the popularity of all the artist’s tracks."
   ]
  },
  {
   "cell_type": "markdown",
   "metadata": {},
   "source": [
    "# 0.0 Importanto Packages"
   ]
  },
  {
   "cell_type": "code",
   "execution_count": 1,
   "metadata": {
    "ExecuteTime": {
     "end_time": "2020-10-23T23:35:29.163708Z",
     "start_time": "2020-10-23T23:35:12.817510Z"
    }
   },
   "outputs": [],
   "source": [
    "import pandas as pd\n",
    "import numpy as np\n",
    "import seaborn as sns\n",
    "import matplotlib.pyplot as plt"
   ]
  },
  {
   "cell_type": "code",
   "execution_count": 2,
   "metadata": {
    "ExecuteTime": {
     "end_time": "2020-10-21T10:53:35.736749Z",
     "start_time": "2020-10-21T10:53:35.732760Z"
    }
   },
   "outputs": [],
   "source": [
    "## 0.1 Importando Dados"
   ]
  },
  {
   "cell_type": "code",
   "execution_count": 2,
   "metadata": {
    "ExecuteTime": {
     "end_time": "2020-10-21T12:45:30.487851Z",
     "start_time": "2020-10-21T12:45:30.221909Z"
    }
   },
   "outputs": [],
   "source": [
    "Df_raw = pd.read_csv('My_Spotify_Data_Final.csv')"
   ]
  },
  {
   "cell_type": "markdown",
   "metadata": {
    "ExecuteTime": {
     "end_time": "2020-10-21T11:11:02.521043Z",
     "start_time": "2020-10-21T11:11:02.184684Z"
    }
   },
   "source": [
    "# 1.0 Descrição dos dados"
   ]
  },
  {
   "cell_type": "code",
   "execution_count": 3,
   "metadata": {
    "ExecuteTime": {
     "end_time": "2020-10-21T12:45:30.605300Z",
     "start_time": "2020-10-21T12:45:30.489480Z"
    }
   },
   "outputs": [
    {
     "data": {
      "text/html": [
       "<div>\n",
       "<style scoped>\n",
       "    .dataframe tbody tr th:only-of-type {\n",
       "        vertical-align: middle;\n",
       "    }\n",
       "\n",
       "    .dataframe tbody tr th {\n",
       "        vertical-align: top;\n",
       "    }\n",
       "\n",
       "    .dataframe thead th {\n",
       "        text-align: right;\n",
       "    }\n",
       "</style>\n",
       "<table border=\"1\" class=\"dataframe\">\n",
       "  <thead>\n",
       "    <tr style=\"text-align: right;\">\n",
       "      <th></th>\n",
       "      <th>artistName</th>\n",
       "      <th>trackName</th>\n",
       "      <th>energy</th>\n",
       "      <th>danceability</th>\n",
       "      <th>key</th>\n",
       "      <th>loudness</th>\n",
       "      <th>mode</th>\n",
       "      <th>speechiness</th>\n",
       "      <th>acousticness</th>\n",
       "      <th>instrumentalness</th>\n",
       "      <th>liveness</th>\n",
       "      <th>valence</th>\n",
       "      <th>tempo</th>\n",
       "      <th>duration_ms</th>\n",
       "      <th>time_signature</th>\n",
       "      <th>popularity</th>\n",
       "    </tr>\n",
       "  </thead>\n",
       "  <tbody>\n",
       "    <tr>\n",
       "      <th>11338</th>\n",
       "      <td>MC Kevin o Chris</td>\n",
       "      <td>Medley da Gaiola - Dennis DJ Remix</td>\n",
       "      <td>0.756</td>\n",
       "      <td>0.896</td>\n",
       "      <td>0.896</td>\n",
       "      <td>-5.560</td>\n",
       "      <td>0.0</td>\n",
       "      <td>0.2280</td>\n",
       "      <td>0.71100</td>\n",
       "      <td>0.000000</td>\n",
       "      <td>0.0779</td>\n",
       "      <td>0.686</td>\n",
       "      <td>140.073</td>\n",
       "      <td>240000.0</td>\n",
       "      <td>4.0</td>\n",
       "      <td>61</td>\n",
       "    </tr>\n",
       "    <tr>\n",
       "      <th>16188</th>\n",
       "      <td>Zimbra</td>\n",
       "      <td>Viva</td>\n",
       "      <td>0.572</td>\n",
       "      <td>0.494</td>\n",
       "      <td>0.494</td>\n",
       "      <td>-5.395</td>\n",
       "      <td>1.0</td>\n",
       "      <td>0.0339</td>\n",
       "      <td>0.21400</td>\n",
       "      <td>0.000000</td>\n",
       "      <td>0.0646</td>\n",
       "      <td>0.334</td>\n",
       "      <td>132.809</td>\n",
       "      <td>223424.0</td>\n",
       "      <td>4.0</td>\n",
       "      <td>50</td>\n",
       "    </tr>\n",
       "    <tr>\n",
       "      <th>11590</th>\n",
       "      <td>Ed Sheeran</td>\n",
       "      <td>Perfect</td>\n",
       "      <td>0.448</td>\n",
       "      <td>0.599</td>\n",
       "      <td>0.599</td>\n",
       "      <td>-6.312</td>\n",
       "      <td>1.0</td>\n",
       "      <td>0.0232</td>\n",
       "      <td>0.16300</td>\n",
       "      <td>0.000000</td>\n",
       "      <td>0.1060</td>\n",
       "      <td>0.168</td>\n",
       "      <td>95.050</td>\n",
       "      <td>263400.0</td>\n",
       "      <td>3.0</td>\n",
       "      <td>86</td>\n",
       "    </tr>\n",
       "    <tr>\n",
       "      <th>4941</th>\n",
       "      <td>Lady Gaga</td>\n",
       "      <td>Bad Romance</td>\n",
       "      <td>0.921</td>\n",
       "      <td>0.696</td>\n",
       "      <td>0.696</td>\n",
       "      <td>-3.755</td>\n",
       "      <td>1.0</td>\n",
       "      <td>0.0363</td>\n",
       "      <td>0.00314</td>\n",
       "      <td>0.000052</td>\n",
       "      <td>0.0842</td>\n",
       "      <td>0.714</td>\n",
       "      <td>119.001</td>\n",
       "      <td>294573.0</td>\n",
       "      <td>4.0</td>\n",
       "      <td>80</td>\n",
       "    </tr>\n",
       "    <tr>\n",
       "      <th>5093</th>\n",
       "      <td>Zara Larsson</td>\n",
       "      <td>Lush Life</td>\n",
       "      <td>0.712</td>\n",
       "      <td>0.694</td>\n",
       "      <td>0.694</td>\n",
       "      <td>-3.923</td>\n",
       "      <td>0.0</td>\n",
       "      <td>0.0460</td>\n",
       "      <td>0.13300</td>\n",
       "      <td>0.000000</td>\n",
       "      <td>0.2110</td>\n",
       "      <td>0.799</td>\n",
       "      <td>98.022</td>\n",
       "      <td>201122.0</td>\n",
       "      <td>4.0</td>\n",
       "      <td>77</td>\n",
       "    </tr>\n",
       "  </tbody>\n",
       "</table>\n",
       "</div>"
      ],
      "text/plain": [
       "             artistName                           trackName  energy  \\\n",
       "11338  MC Kevin o Chris  Medley da Gaiola - Dennis DJ Remix   0.756   \n",
       "16188            Zimbra                                Viva   0.572   \n",
       "11590        Ed Sheeran                             Perfect   0.448   \n",
       "4941          Lady Gaga                         Bad Romance   0.921   \n",
       "5093       Zara Larsson                           Lush Life   0.712   \n",
       "\n",
       "       danceability    key  loudness  mode  speechiness  acousticness  \\\n",
       "11338         0.896  0.896    -5.560   0.0       0.2280       0.71100   \n",
       "16188         0.494  0.494    -5.395   1.0       0.0339       0.21400   \n",
       "11590         0.599  0.599    -6.312   1.0       0.0232       0.16300   \n",
       "4941          0.696  0.696    -3.755   1.0       0.0363       0.00314   \n",
       "5093          0.694  0.694    -3.923   0.0       0.0460       0.13300   \n",
       "\n",
       "       instrumentalness  liveness  valence    tempo  duration_ms  \\\n",
       "11338          0.000000    0.0779    0.686  140.073     240000.0   \n",
       "16188          0.000000    0.0646    0.334  132.809     223424.0   \n",
       "11590          0.000000    0.1060    0.168   95.050     263400.0   \n",
       "4941           0.000052    0.0842    0.714  119.001     294573.0   \n",
       "5093           0.000000    0.2110    0.799   98.022     201122.0   \n",
       "\n",
       "       time_signature  popularity  \n",
       "11338             4.0          61  \n",
       "16188             4.0          50  \n",
       "11590             3.0          86  \n",
       "4941              4.0          80  \n",
       "5093              4.0          77  "
      ]
     },
     "execution_count": 3,
     "metadata": {},
     "output_type": "execute_result"
    }
   ],
   "source": [
    "df1 = Df_raw.copy()\n",
    "df1.sample(5)"
   ]
  },
  {
   "cell_type": "code",
   "execution_count": 4,
   "metadata": {
    "ExecuteTime": {
     "end_time": "2020-10-21T12:45:30.608526Z",
     "start_time": "2020-10-21T12:45:30.606489Z"
    }
   },
   "outputs": [],
   "source": [
    "## 1.1 Nome das Colunas"
   ]
  },
  {
   "cell_type": "code",
   "execution_count": 5,
   "metadata": {
    "ExecuteTime": {
     "end_time": "2020-10-21T12:45:30.621446Z",
     "start_time": "2020-10-21T12:45:30.612475Z"
    }
   },
   "outputs": [
    {
     "data": {
      "text/plain": [
       "Index(['artistName', 'trackName', 'energy', 'danceability', 'key', 'loudness',\n",
       "       'mode', 'speechiness', 'acousticness', 'instrumentalness', 'liveness',\n",
       "       'valence', 'tempo', 'duration_ms', 'time_signature', 'popularity'],\n",
       "      dtype='object')"
      ]
     },
     "execution_count": 5,
     "metadata": {},
     "output_type": "execute_result"
    }
   ],
   "source": [
    "df1.columns"
   ]
  },
  {
   "cell_type": "code",
   "execution_count": 6,
   "metadata": {
    "ExecuteTime": {
     "end_time": "2020-10-21T12:45:30.625688Z",
     "start_time": "2020-10-21T12:45:30.622441Z"
    }
   },
   "outputs": [],
   "source": [
    "## 1.2 Dimensão dos dados"
   ]
  },
  {
   "cell_type": "code",
   "execution_count": 7,
   "metadata": {
    "ExecuteTime": {
     "end_time": "2020-10-21T12:45:30.638655Z",
     "start_time": "2020-10-21T12:45:30.630682Z"
    }
   },
   "outputs": [
    {
     "data": {
      "text/plain": [
       "(19423, 16)"
      ]
     },
     "execution_count": 7,
     "metadata": {},
     "output_type": "execute_result"
    }
   ],
   "source": [
    "df1.shape"
   ]
  },
  {
   "cell_type": "code",
   "execution_count": 8,
   "metadata": {
    "ExecuteTime": {
     "end_time": "2020-10-21T12:45:30.644640Z",
     "start_time": "2020-10-21T12:45:30.640649Z"
    }
   },
   "outputs": [],
   "source": [
    "## 1.3 Tipos dos Dados"
   ]
  },
  {
   "cell_type": "code",
   "execution_count": 9,
   "metadata": {
    "ExecuteTime": {
     "end_time": "2020-10-21T12:45:30.664589Z",
     "start_time": "2020-10-21T12:45:30.654611Z"
    },
    "scrolled": true
   },
   "outputs": [
    {
     "data": {
      "text/plain": [
       "artistName           object\n",
       "trackName            object\n",
       "energy              float64\n",
       "danceability        float64\n",
       "key                 float64\n",
       "loudness            float64\n",
       "mode                float64\n",
       "speechiness         float64\n",
       "acousticness        float64\n",
       "instrumentalness    float64\n",
       "liveness            float64\n",
       "valence             float64\n",
       "tempo               float64\n",
       "duration_ms         float64\n",
       "time_signature      float64\n",
       "popularity            int64\n",
       "dtype: object"
      ]
     },
     "execution_count": 9,
     "metadata": {},
     "output_type": "execute_result"
    }
   ],
   "source": [
    "df1.dtypes"
   ]
  },
  {
   "cell_type": "code",
   "execution_count": 10,
   "metadata": {
    "ExecuteTime": {
     "end_time": "2020-10-21T12:45:30.674560Z",
     "start_time": "2020-10-21T12:45:30.670569Z"
    }
   },
   "outputs": [],
   "source": [
    "## 1.4 Missing Value"
   ]
  },
  {
   "cell_type": "code",
   "execution_count": 11,
   "metadata": {
    "ExecuteTime": {
     "end_time": "2020-10-21T12:45:30.703507Z",
     "start_time": "2020-10-21T12:45:30.677555Z"
    }
   },
   "outputs": [
    {
     "data": {
      "text/plain": [
       "artistName          0\n",
       "trackName           0\n",
       "energy              0\n",
       "danceability        0\n",
       "key                 0\n",
       "loudness            0\n",
       "mode                0\n",
       "speechiness         0\n",
       "acousticness        0\n",
       "instrumentalness    0\n",
       "liveness            0\n",
       "valence             0\n",
       "tempo               0\n",
       "duration_ms         0\n",
       "time_signature      0\n",
       "popularity          0\n",
       "dtype: int64"
      ]
     },
     "execution_count": 11,
     "metadata": {},
     "output_type": "execute_result"
    }
   ],
   "source": [
    "df1.isna().sum()"
   ]
  },
  {
   "cell_type": "code",
   "execution_count": 12,
   "metadata": {
    "ExecuteTime": {
     "end_time": "2020-10-21T12:45:30.708242Z",
     "start_time": "2020-10-21T12:45:30.704654Z"
    }
   },
   "outputs": [],
   "source": [
    "# 1.5 Descriptive Statistical"
   ]
  },
  {
   "cell_type": "code",
   "execution_count": 13,
   "metadata": {
    "ExecuteTime": {
     "end_time": "2020-10-21T12:45:30.723202Z",
     "start_time": "2020-10-21T12:45:30.710238Z"
    }
   },
   "outputs": [],
   "source": [
    " numerical_columns = df1.select_dtypes(include = ['int64','float'])"
   ]
  },
  {
   "cell_type": "code",
   "execution_count": 14,
   "metadata": {
    "ExecuteTime": {
     "end_time": "2020-10-21T12:45:30.836253Z",
     "start_time": "2020-10-21T12:45:30.725196Z"
    }
   },
   "outputs": [],
   "source": [
    "mean = pd.DataFrame(numerical_columns.apply(np.mean)).T\n",
    "median = pd.DataFrame(numerical_columns.apply(np.median)).T\n",
    "std = pd.DataFrame(numerical_columns.apply(np.std)).T\n",
    "\n",
    "mini = pd.DataFrame(numerical_columns.apply(lambda x:x.min())).T\n",
    "maxi = pd.DataFrame(numerical_columns.apply(lambda x:x.max())).T\n",
    "amp = pd.DataFrame(numerical_columns.apply(lambda x:x.max() - x.min())).T\n",
    "\n",
    "skew = pd.DataFrame(numerical_columns.apply(lambda x:x.skew())).T\n",
    "kurt = pd.DataFrame(numerical_columns.apply(lambda x:x.kurtosis())).T"
   ]
  },
  {
   "cell_type": "code",
   "execution_count": 15,
   "metadata": {
    "ExecuteTime": {
     "end_time": "2020-10-21T12:45:30.865902Z",
     "start_time": "2020-10-21T12:45:30.838181Z"
    }
   },
   "outputs": [
    {
     "data": {
      "text/html": [
       "<div>\n",
       "<style scoped>\n",
       "    .dataframe tbody tr th:only-of-type {\n",
       "        vertical-align: middle;\n",
       "    }\n",
       "\n",
       "    .dataframe tbody tr th {\n",
       "        vertical-align: top;\n",
       "    }\n",
       "\n",
       "    .dataframe thead th {\n",
       "        text-align: right;\n",
       "    }\n",
       "</style>\n",
       "<table border=\"1\" class=\"dataframe\">\n",
       "  <thead>\n",
       "    <tr style=\"text-align: right;\">\n",
       "      <th></th>\n",
       "      <th>Atribute</th>\n",
       "      <th>mean</th>\n",
       "      <th>median</th>\n",
       "      <th>std</th>\n",
       "      <th>min</th>\n",
       "      <th>max</th>\n",
       "      <th>amplitude</th>\n",
       "      <th>skew</th>\n",
       "      <th>kurtosis</th>\n",
       "    </tr>\n",
       "  </thead>\n",
       "  <tbody>\n",
       "    <tr>\n",
       "      <th>0</th>\n",
       "      <td>energy</td>\n",
       "      <td>0.733476</td>\n",
       "      <td>0.765</td>\n",
       "      <td>0.182096</td>\n",
       "      <td>0.006050</td>\n",
       "      <td>0.999</td>\n",
       "      <td>0.992950</td>\n",
       "      <td>-0.797647</td>\n",
       "      <td>0.229361</td>\n",
       "    </tr>\n",
       "    <tr>\n",
       "      <th>1</th>\n",
       "      <td>danceability</td>\n",
       "      <td>0.603575</td>\n",
       "      <td>0.614</td>\n",
       "      <td>0.151928</td>\n",
       "      <td>0.095600</td>\n",
       "      <td>0.974</td>\n",
       "      <td>0.878400</td>\n",
       "      <td>-0.364639</td>\n",
       "      <td>-0.258039</td>\n",
       "    </tr>\n",
       "    <tr>\n",
       "      <th>2</th>\n",
       "      <td>key</td>\n",
       "      <td>0.603575</td>\n",
       "      <td>0.614</td>\n",
       "      <td>0.151928</td>\n",
       "      <td>0.095600</td>\n",
       "      <td>0.974</td>\n",
       "      <td>0.878400</td>\n",
       "      <td>-0.364639</td>\n",
       "      <td>-0.258039</td>\n",
       "    </tr>\n",
       "    <tr>\n",
       "      <th>3</th>\n",
       "      <td>loudness</td>\n",
       "      <td>-5.752534</td>\n",
       "      <td>-5.379</td>\n",
       "      <td>2.571857</td>\n",
       "      <td>-38.427000</td>\n",
       "      <td>1.509</td>\n",
       "      <td>39.936000</td>\n",
       "      <td>-1.693282</td>\n",
       "      <td>7.432698</td>\n",
       "    </tr>\n",
       "    <tr>\n",
       "      <th>4</th>\n",
       "      <td>mode</td>\n",
       "      <td>0.603975</td>\n",
       "      <td>1.000</td>\n",
       "      <td>0.489070</td>\n",
       "      <td>0.000000</td>\n",
       "      <td>1.000</td>\n",
       "      <td>1.000000</td>\n",
       "      <td>-0.425226</td>\n",
       "      <td>-1.819370</td>\n",
       "    </tr>\n",
       "    <tr>\n",
       "      <th>5</th>\n",
       "      <td>speechiness</td>\n",
       "      <td>0.081199</td>\n",
       "      <td>0.053</td>\n",
       "      <td>0.074940</td>\n",
       "      <td>0.023100</td>\n",
       "      <td>0.814</td>\n",
       "      <td>0.790900</td>\n",
       "      <td>2.881249</td>\n",
       "      <td>10.656356</td>\n",
       "    </tr>\n",
       "    <tr>\n",
       "      <th>6</th>\n",
       "      <td>acousticness</td>\n",
       "      <td>0.216097</td>\n",
       "      <td>0.099</td>\n",
       "      <td>0.250182</td>\n",
       "      <td>0.000003</td>\n",
       "      <td>0.996</td>\n",
       "      <td>0.995997</td>\n",
       "      <td>1.138805</td>\n",
       "      <td>0.198239</td>\n",
       "    </tr>\n",
       "    <tr>\n",
       "      <th>7</th>\n",
       "      <td>instrumentalness</td>\n",
       "      <td>0.017861</td>\n",
       "      <td>0.000</td>\n",
       "      <td>0.097344</td>\n",
       "      <td>0.000000</td>\n",
       "      <td>0.972</td>\n",
       "      <td>0.972000</td>\n",
       "      <td>7.135391</td>\n",
       "      <td>54.194542</td>\n",
       "    </tr>\n",
       "    <tr>\n",
       "      <th>8</th>\n",
       "      <td>liveness</td>\n",
       "      <td>0.260888</td>\n",
       "      <td>0.150</td>\n",
       "      <td>0.246363</td>\n",
       "      <td>0.019700</td>\n",
       "      <td>0.995</td>\n",
       "      <td>0.975300</td>\n",
       "      <td>1.617006</td>\n",
       "      <td>1.627247</td>\n",
       "    </tr>\n",
       "    <tr>\n",
       "      <th>9</th>\n",
       "      <td>valence</td>\n",
       "      <td>0.546933</td>\n",
       "      <td>0.549</td>\n",
       "      <td>0.224298</td>\n",
       "      <td>0.033400</td>\n",
       "      <td>0.988</td>\n",
       "      <td>0.954600</td>\n",
       "      <td>-0.106177</td>\n",
       "      <td>-0.811894</td>\n",
       "    </tr>\n",
       "    <tr>\n",
       "      <th>10</th>\n",
       "      <td>tempo</td>\n",
       "      <td>125.196213</td>\n",
       "      <td>124.057</td>\n",
       "      <td>28.255394</td>\n",
       "      <td>50.700000</td>\n",
       "      <td>235.998</td>\n",
       "      <td>185.298000</td>\n",
       "      <td>0.275363</td>\n",
       "      <td>-0.551889</td>\n",
       "    </tr>\n",
       "    <tr>\n",
       "      <th>11</th>\n",
       "      <td>duration_ms</td>\n",
       "      <td>219743.877825</td>\n",
       "      <td>212720.000</td>\n",
       "      <td>57037.158456</td>\n",
       "      <td>15160.000000</td>\n",
       "      <td>905333.000</td>\n",
       "      <td>890173.000000</td>\n",
       "      <td>1.686190</td>\n",
       "      <td>7.488987</td>\n",
       "    </tr>\n",
       "    <tr>\n",
       "      <th>12</th>\n",
       "      <td>time_signature</td>\n",
       "      <td>3.973485</td>\n",
       "      <td>4.000</td>\n",
       "      <td>0.219446</td>\n",
       "      <td>1.000000</td>\n",
       "      <td>5.000</td>\n",
       "      <td>4.000000</td>\n",
       "      <td>-4.951408</td>\n",
       "      <td>53.965645</td>\n",
       "    </tr>\n",
       "    <tr>\n",
       "      <th>13</th>\n",
       "      <td>popularity</td>\n",
       "      <td>59.491634</td>\n",
       "      <td>61.000</td>\n",
       "      <td>15.819339</td>\n",
       "      <td>0.000000</td>\n",
       "      <td>96.000</td>\n",
       "      <td>96.000000</td>\n",
       "      <td>-0.972968</td>\n",
       "      <td>1.408517</td>\n",
       "    </tr>\n",
       "  </tbody>\n",
       "</table>\n",
       "</div>"
      ],
      "text/plain": [
       "            Atribute           mean      median           std           min  \\\n",
       "0             energy       0.733476       0.765      0.182096      0.006050   \n",
       "1       danceability       0.603575       0.614      0.151928      0.095600   \n",
       "2                key       0.603575       0.614      0.151928      0.095600   \n",
       "3           loudness      -5.752534      -5.379      2.571857    -38.427000   \n",
       "4               mode       0.603975       1.000      0.489070      0.000000   \n",
       "5        speechiness       0.081199       0.053      0.074940      0.023100   \n",
       "6       acousticness       0.216097       0.099      0.250182      0.000003   \n",
       "7   instrumentalness       0.017861       0.000      0.097344      0.000000   \n",
       "8           liveness       0.260888       0.150      0.246363      0.019700   \n",
       "9            valence       0.546933       0.549      0.224298      0.033400   \n",
       "10             tempo     125.196213     124.057     28.255394     50.700000   \n",
       "11       duration_ms  219743.877825  212720.000  57037.158456  15160.000000   \n",
       "12    time_signature       3.973485       4.000      0.219446      1.000000   \n",
       "13        popularity      59.491634      61.000     15.819339      0.000000   \n",
       "\n",
       "           max      amplitude      skew   kurtosis  \n",
       "0        0.999       0.992950 -0.797647   0.229361  \n",
       "1        0.974       0.878400 -0.364639  -0.258039  \n",
       "2        0.974       0.878400 -0.364639  -0.258039  \n",
       "3        1.509      39.936000 -1.693282   7.432698  \n",
       "4        1.000       1.000000 -0.425226  -1.819370  \n",
       "5        0.814       0.790900  2.881249  10.656356  \n",
       "6        0.996       0.995997  1.138805   0.198239  \n",
       "7        0.972       0.972000  7.135391  54.194542  \n",
       "8        0.995       0.975300  1.617006   1.627247  \n",
       "9        0.988       0.954600 -0.106177  -0.811894  \n",
       "10     235.998     185.298000  0.275363  -0.551889  \n",
       "11  905333.000  890173.000000  1.686190   7.488987  \n",
       "12       5.000       4.000000 -4.951408  53.965645  \n",
       "13      96.000      96.000000 -0.972968   1.408517  "
      ]
     },
     "execution_count": 15,
     "metadata": {},
     "output_type": "execute_result"
    }
   ],
   "source": [
    "Desc = pd.concat([mean,median,std,mini,maxi,amp,skew,kurt]).T.reset_index()\n",
    "\n",
    "Desc.columns = ['Atribute','mean','median','std','min','max','amplitude','skew','kurtosis']\n",
    "\n",
    "Desc"
   ]
  },
  {
   "cell_type": "code",
   "execution_count": 16,
   "metadata": {
    "ExecuteTime": {
     "end_time": "2020-10-21T12:45:31.703672Z",
     "start_time": "2020-10-21T12:45:30.869360Z"
    }
   },
   "outputs": [
    {
     "data": {
      "text/plain": [
       "<matplotlib.axes._subplots.AxesSubplot at 0x19ad7128a60>"
      ]
     },
     "execution_count": 16,
     "metadata": {},
     "output_type": "execute_result"
    },
    {
     "data": {
      "image/png": "[encoded data removed]",
      "text/plain": [
       "<Figure size 1080x288 with 1 Axes>"
      ]
     },
     "metadata": {
      "needs_background": "light"
     },
     "output_type": "display_data"
    }
   ],
   "source": [
    "plt.figure(figsize = (15,4))\n",
    "sns.distplot(df1['popularity'])"
   ]
  },
  {
   "cell_type": "markdown",
   "metadata": {
    "ExecuteTime": {
     "end_time": "2020-10-21T11:53:30.046829Z",
     "start_time": "2020-10-21T11:53:30.043850Z"
    }
   },
   "source": [
    "## 2.0 Feature Engineering"
   ]
  },
  {
   "cell_type": "markdown",
   "metadata": {},
   "source": [
    "## 2.1 Lista de Hipoteses"
   ]
  },
  {
   "cell_type": "markdown",
   "metadata": {},
   "source": [
    "**1. Musicas com maior dancatibilidade são mais populares**\n",
    "\n",
    "**2. Musicas instrumentais são menos populares**\n",
    "\n",
    "**3. Musicas acusticas são menos dancaveis**\n",
    "\n",
    "**4. Musicas ao vivo as pessoas estão mais felizes (variance)**\n",
    "\n",
    "**5. Musicas dancaveis são mais alegres**\n",
    "\n",
    "**6 Musicas tristes são mais populares**"
   ]
  },
  {
   "cell_type": "code",
   "execution_count": 17,
   "metadata": {
    "ExecuteTime": {
     "end_time": "2020-10-21T18:37:49.978467Z",
     "start_time": "2020-10-21T18:37:48.872543Z"
    }
   },
   "outputs": [],
   "source": [
    "## 2.2 Criação de Hipotese"
   ]
  },
  {
   "cell_type": "code",
   "execution_count": 17,
   "metadata": {
    "ExecuteTime": {
     "end_time": "2020-10-23T23:39:30.388574Z",
     "start_time": "2020-10-23T23:39:29.944485Z"
    }
   },
   "outputs": [],
   "source": [
    "data1 = pd.read_csv('Data1.csv')\n",
    "data1 = data1.drop('Unnamed: 0',axis = 1)\n",
    "\n",
    "data2 = pd.read_csv('Data2.csv')\n",
    "data2 = data2.drop('Unnamed: 0',axis = 1)\n",
    "\n",
    "data3 = pd.read_csv('Data3.csv')\n",
    "data3 = data3.drop('index',axis = 1)\n",
    "\n",
    "data4 = pd.read_csv('Data4.csv')\n",
    "data5 = pd.read_csv('Data5.csv')\n",
    "data6 = pd.read_csv('Data6.csv')\n",
    "data7 = pd.read_csv('Data7.csv')\n",
    "data8 = pd.read_csv('Data8.csv')\n",
    "data9 = pd.read_csv('Data9.csv')\n",
    "data10 = pd.read_csv('Data10.csv')"
   ]
  },
  {
   "cell_type": "code",
   "execution_count": 38,
   "metadata": {
    "ExecuteTime": {
     "end_time": "2020-10-23T23:50:18.728516Z",
     "start_time": "2020-10-23T23:50:17.766472Z"
    }
   },
   "outputs": [],
   "source": [
    "Data_Final = pd.concat([data1,data2,data3,data4,data5,data6,data7,data8,data9,data10]).reset_index()\n",
    "Data_Final = Data_Final.drop('index',axis = 1)\n",
    "Data_Final = Data_Final.drop_duplicates()"
   ]
  },
  {
   "cell_type": "code",
   "execution_count": null,
   "metadata": {},
   "outputs": [],
   "source": []
  }
 ],
 "metadata": {
  "kernelspec": {
   "display_name": "Python 3",
   "language": "python",
   "name": "python3"
  },
  "language_info": {
   "codemirror_mode": {
    "name": "ipython",
    "version": 3
   },
   "file_extension": ".py",
   "mimetype": "text/x-python",
   "name": "python",
   "nbconvert_exporter": "python",
   "pygments_lexer": "ipython3",
   "version": "3.8.3"
  }
 },
 "nbformat": 4,
 "nbformat_minor": 4
}
